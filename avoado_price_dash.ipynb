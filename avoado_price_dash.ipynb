{
 "cells": [
  {
   "cell_type": "code",
   "execution_count": 1,
   "metadata": {},
   "outputs": [],
   "source": [
    "import dash\n",
    "from dash import dcc\n",
    "from dash import html\n",
    "from dash.dependencies import Input, Output\n",
    "import pandas as pd\n",
    "import plotly.express as px"
   ]
  },
  {
   "cell_type": "code",
   "execution_count": 2,
   "metadata": {},
   "outputs": [],
   "source": [
    "df = pd.read_csv('avocado-updated-2020.csv')"
   ]
  },
  {
   "cell_type": "code",
   "execution_count": 3,
   "metadata": {},
   "outputs": [],
   "source": [
    "app = dash.Dash()"
   ]
  },
  {
   "cell_type": "code",
   "execution_count": 4,
   "metadata": {},
   "outputs": [
    {
     "name": "stdout",
     "output_type": "stream",
     "text": [
      "Dash is running on http://127.0.0.1:8050/\n",
      "\n",
      " * Serving Flask app '__main__'\n",
      " * Debug mode: on\n"
     ]
    }
   ],
   "source": [
    "app.layout = html.Div(children=[\n",
    "    html.H1(children='Avocado Price Dashboard'),\n",
    "    dcc.Dropdown(id='geo-dropdown',\n",
    "                 options=[{'label': i, 'value': i} for i in df['geography'].unique()],\n",
    "                 placeholder='Select a City',\n",
    "                 value='New York'),\n",
    "    dcc.Graph(id='price-graph')\n",
    "])\n",
    "\n",
    "@app.callback(\n",
    "    Output(component_id='price-graph', component_property='figure'),\n",
    "    [Input(component_id='geo-dropdown', component_property='value')]\n",
    ")\n",
    "def update_graph(selected_geography):\n",
    "    filtered_avocado = df[df['geography'] == selected_geography]\n",
    "    line_fig = px.line(filtered_avocado,\n",
    "                       x='date', y='average_price',\n",
    "                       color='type',\n",
    "                       title=f'Avocado Prices in {selected_geography}')\n",
    "    return line_fig\n",
    "\n",
    "\n",
    "app.run_server(debug=True, use_reloader=False)\n"
   ]
  },
  {
   "cell_type": "code",
   "execution_count": null,
   "metadata": {},
   "outputs": [],
   "source": []
  },
  {
   "cell_type": "code",
   "execution_count": null,
   "metadata": {},
   "outputs": [],
   "source": []
  },
  {
   "cell_type": "code",
   "execution_count": null,
   "metadata": {},
   "outputs": [],
   "source": []
  },
  {
   "cell_type": "code",
   "execution_count": null,
   "metadata": {},
   "outputs": [],
   "source": []
  },
  {
   "cell_type": "code",
   "execution_count": null,
   "metadata": {},
   "outputs": [],
   "source": []
  }
 ],
 "metadata": {
  "kernelspec": {
   "display_name": "new_env",
   "language": "python",
   "name": "python3"
  },
  "language_info": {
   "codemirror_mode": {
    "name": "ipython",
    "version": 3
   },
   "file_extension": ".py",
   "mimetype": "text/x-python",
   "name": "python",
   "nbconvert_exporter": "python",
   "pygments_lexer": "ipython3",
   "version": "3.8.16"
  },
  "orig_nbformat": 4
 },
 "nbformat": 4,
 "nbformat_minor": 2
}
